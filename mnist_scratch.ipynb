{
  "nbformat": 4,
  "nbformat_minor": 0,
  "metadata": {
    "colab": {
      "name": "mnist-scratch",
      "provenance": [],
      "include_colab_link": true
    },
    "kernelspec": {
      "name": "python3",
      "display_name": "Python 3"
    },
    "language_info": {
      "name": "python"
    }
  },
  "cells": [
    {
      "cell_type": "markdown",
      "metadata": {
        "id": "view-in-github",
        "colab_type": "text"
      },
      "source": [
        "<a href=\"https://colab.research.google.com/github/Menonsunil/AI-ML-Assignments/blob/main/mnist_scratch.ipynb\" target=\"_parent\"><img src=\"https://colab.research.google.com/assets/colab-badge.svg\" alt=\"Open In Colab\"/></a>"
      ]
    },
    {
      "cell_type": "code",
      "metadata": {
        "id": "IBCtHOwKCrME"
      },
      "source": [
        "import tensorflow as tf"
      ],
      "execution_count": null,
      "outputs": []
    },
    {
      "cell_type": "code",
      "metadata": {
        "id": "1HDveGeWCy_O"
      },
      "source": [
        "from sklearn.datasets import fetch_openml\n",
        "from keras.utils.np_utils import to_categorical\n",
        "import numpy as np\n",
        "from sklearn.model_selection import train_test_split"
      ],
      "execution_count": null,
      "outputs": []
    },
    {
      "cell_type": "code",
      "metadata": {
        "id": "LK2ujKOzC4_J"
      },
      "source": [
        "x,y = fetch_openml(\"mnist_784\", version=1, return_X_y=True)\n"
      ],
      "execution_count": null,
      "outputs": []
    },
    {
      "cell_type": "code",
      "metadata": {
        "id": "aUUYH716FK2R"
      },
      "source": [
        "x = (x/255).astype(\"float32\")\n",
        "y = to_categorical(y)"
      ],
      "execution_count": null,
      "outputs": []
    },
    {
      "cell_type": "code",
      "metadata": {
        "colab": {
          "base_uri": "https://localhost:8080/"
        },
        "id": "TMFZNjVhFOsr",
        "outputId": "82a559bd-8b46-47db-cdfe-7f6b7938244d"
      },
      "source": [
        "y.shape"
      ],
      "execution_count": null,
      "outputs": [
        {
          "output_type": "execute_result",
          "data": {
            "text/plain": [
              "(70000, 10)"
            ]
          },
          "metadata": {
            "tags": []
          },
          "execution_count": 22
        }
      ]
    },
    {
      "cell_type": "code",
      "metadata": {
        "colab": {
          "base_uri": "https://localhost:8080/"
        },
        "id": "dRW6_mY5GUZ9",
        "outputId": "28f00f14-93d5-45a2-850a-70cd4ad3601e"
      },
      "source": [
        "x_train, x_val, y_train, y_val = train_test_split(x, y, test_size = 0.2, random_state=44)"
      ],
      "execution_count": null,
      "outputs": [
        {
          "output_type": "execute_result",
          "data": {
            "text/plain": [
              "array([[0., 0., 0., 0., 0., 0., 0., 0., 1., 0.],\n",
              "       [0., 0., 0., 0., 1., 0., 0., 0., 0., 0.],\n",
              "       [0., 0., 0., 0., 0., 0., 1., 0., 0., 0.],\n",
              "       [0., 0., 1., 0., 0., 0., 0., 0., 0., 0.],\n",
              "       [0., 0., 0., 0., 0., 0., 1., 0., 0., 0.]], dtype=float32)"
            ]
          },
          "metadata": {
            "tags": []
          },
          "execution_count": 27
        }
      ]
    },
    {
      "cell_type": "code",
      "metadata": {
        "colab": {
          "base_uri": "https://localhost:8080/",
          "height": 125
        },
        "id": "cMfukuObHAJ1",
        "outputId": "e17dcaa6-a6f6-476d-f629-25fb7b5082c6"
      },
      "source": [
        "class DeepModel:\n",
        "    def __init__(self, sizes, epoch=100, lr_rate=0.01):\n",
        "        self.sizes. = sizes\n",
        "        self.epoch = epoch\n",
        "        self.lr_rate = lr_rate\n",
        "\n",
        "        self.params = self.init()\n",
        "    \n",
        "    def init(slef):\n",
        "        input_layer = self.size[0]\n",
        "        hidden_1 = self.size[1]\n",
        "        hidden_2 = self.size[2]\n",
        "        output_layer = self.size[3]\n",
        "\n",
        "        params = {\"W1\": np.random.rand(hidden_1, input_layer)*np.sqrt(1/hidden_1),\n",
        "                   \"W2\": np.random.rand(hidden_2, hidden_1)*np.sqrt(1/hidden_2),\n",
        "                  \"W3\": np.random.rand(output_layer, hidden_2)*np.sqrt(1/output_layer)}\n",
        "        return param\n",
        "    \n",
        "    def forward_pass(self, x_train):\n",
        "        params = self.params\n",
        "        params[\"A0\"] = x_train\n",
        "        params[\"Z1\"] = np.dot(params[\"W1\"], params[\"A0\"])\n",
        "        params[\"A1\"] = self.sigmoid(params[\"Z1\"])\n",
        "        params[\"Z2\"] = np.dot(params[\"W2\"], params[\"A1\"])\n",
        "        params[\"A2\"] = self.sigmoid(params[\"Z2\"])\n",
        "        params[\"Z3\"] = np.dot(params[\"W3\"], params[\"A2\"])\n",
        "        params[\"A3\"] = self.softmax(params[\"Z3\"])\n",
        "        return params[\"A3\"]\n",
        "\n",
        "    def sigmoid(self, inp, derivate=False):\n",
        "        if derivative:\n",
        "            return np.exp(-inp)/((1+np.exp(-inp))**2)\n",
        "        return 1/(1+np.exp(-inp))\n",
        "    \n",
        "    def softmax(self, inp):\n",
        "        exps = np.exp(x-x.max())\n",
        "        return exps/np.sum(exp, axis=0)\n",
        "\n",
        "    def backward_pass(self, y_train, output):\n",
        "        params = self.params\n",
        "        update_w = {}\n",
        "\n",
        "        error = 2*(output-y_train)/(output.shape[0])*self.softmax(params[\"Z3\"])\n",
        "        update_w[\"W3\"] = np.outer(error, params[\"A2\"])\n",
        "\n",
        "        error = np.dot(params[\"W3\"].T, error)*self.sigmoid(params[\"Z2\"], derivative=True)\n",
        "        update_w[\"W2\"] = np.outer(error, params[\"A1\"])\n",
        "\n",
        "        error = np.dot(params[\"W2\"].T, error)*self.sigmoid(params[\"Z1\"], derivative=True)\n",
        "        update_w[\"W1\"] = np.outer(error, params[\"A0\"])\n",
        "\n",
        "        return update_w\n",
        "\n",
        "    def update_param(self, updates):\n",
        "        "
      ],
      "execution_count": null,
      "outputs": [
        {
          "output_type": "error",
          "ename": "SyntaxError",
          "evalue": "ignored",
          "traceback": [
            "\u001b[0;36m  File \u001b[0;32m\"<ipython-input-28-4941ac7c5ebf>\"\u001b[0;36m, line \u001b[0;32m3\u001b[0m\n\u001b[0;31m    self.sizes. = sizes\u001b[0m\n\u001b[0m                ^\u001b[0m\n\u001b[0;31mSyntaxError\u001b[0m\u001b[0;31m:\u001b[0m invalid syntax\n"
          ]
        }
      ]
    },
    {
      "cell_type": "code",
      "metadata": {
        "id": "0_elhBGfNFaO"
      },
      "source": [
        ""
      ],
      "execution_count": null,
      "outputs": []
    },
    {
      "cell_type": "code",
      "metadata": {
        "colab": {
          "base_uri": "https://localhost:8080/"
        },
        "id": "YQyPvUHTNHQp",
        "outputId": "d984b4ae-b172-42a7-bf52-a873f9138a42"
      },
      "source": [
        "import tensorflow as tf\n",
        "mnist = tf.keras.datasets.mnist\n",
        "\n",
        "(x_train, y_train), (x_test, y_test) = mnist.load_data()\n",
        "print(x_train.shape)\n",
        "print(x_test.shape)"
      ],
      "execution_count": null,
      "outputs": [
        {
          "output_type": "stream",
          "text": [
            "Downloading data from https://storage.googleapis.com/tensorflow/tf-keras-datasets/mnist.npz\n",
            "11493376/11490434 [==============================] - 0s 0us/step\n",
            "(60000, 28, 28)\n",
            "(10000, 28, 28)\n"
          ],
          "name": "stdout"
        }
      ]
    },
    {
      "cell_type": "code",
      "metadata": {
        "colab": {
          "base_uri": "https://localhost:8080/"
        },
        "id": "H3KhL3T6NvA8",
        "outputId": "f6c4f403-d885-4aef-9772-719e8dbfb853"
      },
      "source": [
        "y_train[:5]"
      ],
      "execution_count": null,
      "outputs": [
        {
          "output_type": "execute_result",
          "data": {
            "text/plain": [
              "array([5, 0, 4, 1, 9], dtype=uint8)"
            ]
          },
          "metadata": {
            "tags": []
          },
          "execution_count": 31
        }
      ]
    },
    {
      "cell_type": "code",
      "metadata": {
        "id": "TOA3JDSgNH16"
      },
      "source": [
        "x_train = tf.keras.utils.normalize(x_train, axis=1)\n",
        "x_test = tf.keras.utils.normalize(x_test, axis=1)"
      ],
      "execution_count": null,
      "outputs": []
    },
    {
      "cell_type": "code",
      "metadata": {
        "id": "Ug4QSzmtNH5k"
      },
      "source": [
        "model = tf.keras.models.Sequential()"
      ],
      "execution_count": null,
      "outputs": []
    },
    {
      "cell_type": "code",
      "metadata": {
        "id": "9xisz2EkNH81"
      },
      "source": [
        "model.add(tf.keras.layers.Flatten())\n",
        "model.add(tf.keras.layers.Dense(128, activation=tf.nn.relu))\n",
        "model.add(tf.keras.layers.Dense(128, activation=tf.nn.relu))\n",
        "model.add(tf.keras.layers.Dense(10, activation=tf.nn.softmax))"
      ],
      "execution_count": null,
      "outputs": []
    },
    {
      "cell_type": "code",
      "metadata": {
        "id": "uaTZ9n68Pn7N"
      },
      "source": [
        ""
      ],
      "execution_count": null,
      "outputs": []
    },
    {
      "cell_type": "code",
      "metadata": {
        "id": "oBKxcBxfNIAF"
      },
      "source": [
        "model.compile(optimizer=tf.keras.optimizers.SGD(learning_rate=0.03, momentum=0.0), loss=\"sparse_categorical_crossentropy\", metrics=[\"accuracy\", tf.keras.metrics.sparse_categorical_accuracy])"
      ],
      "execution_count": null,
      "outputs": []
    },
    {
      "cell_type": "code",
      "metadata": {
        "colab": {
          "base_uri": "https://localhost:8080/"
        },
        "id": "6dWy9NWJNIDN",
        "outputId": "e61748bb-4bcb-483a-ef98-98194e9db245"
      },
      "source": [
        "model.fit(x=x_train, y=y_train, epochs=10, verbose=2)"
      ],
      "execution_count": null,
      "outputs": [
        {
          "output_type": "stream",
          "text": [
            "Epoch 1/10\n",
            "1875/1875 - 3s - loss: 0.0758 - accuracy: 0.9782 - sparse_categorical_accuracy: 0.9782\n",
            "Epoch 2/10\n",
            "1875/1875 - 3s - loss: 0.0689 - accuracy: 0.9806 - sparse_categorical_accuracy: 0.9806\n",
            "Epoch 3/10\n",
            "1875/1875 - 3s - loss: 0.0631 - accuracy: 0.9819 - sparse_categorical_accuracy: 0.9819\n",
            "Epoch 4/10\n",
            "1875/1875 - 3s - loss: 0.0580 - accuracy: 0.9830 - sparse_categorical_accuracy: 0.9830\n",
            "Epoch 5/10\n",
            "1875/1875 - 3s - loss: 0.0530 - accuracy: 0.9848 - sparse_categorical_accuracy: 0.9848\n",
            "Epoch 6/10\n",
            "1875/1875 - 3s - loss: 0.0487 - accuracy: 0.9863 - sparse_categorical_accuracy: 0.9863\n",
            "Epoch 7/10\n",
            "1875/1875 - 3s - loss: 0.0449 - accuracy: 0.9879 - sparse_categorical_accuracy: 0.9879\n",
            "Epoch 8/10\n",
            "1875/1875 - 3s - loss: 0.0413 - accuracy: 0.9890 - sparse_categorical_accuracy: 0.9890\n",
            "Epoch 9/10\n",
            "1875/1875 - 3s - loss: 0.0382 - accuracy: 0.9898 - sparse_categorical_accuracy: 0.9898\n",
            "Epoch 10/10\n",
            "1875/1875 - 3s - loss: 0.0350 - accuracy: 0.9908 - sparse_categorical_accuracy: 0.9908\n"
          ],
          "name": "stdout"
        },
        {
          "output_type": "execute_result",
          "data": {
            "text/plain": [
              "<tensorflow.python.keras.callbacks.History at 0x7fa218ecb3d0>"
            ]
          },
          "metadata": {
            "tags": []
          },
          "execution_count": 53
        }
      ]
    },
    {
      "cell_type": "code",
      "metadata": {
        "colab": {
          "base_uri": "https://localhost:8080/"
        },
        "id": "7K0IdxP7NIGC",
        "outputId": "5a56b949-9a86-473c-94e5-62c4e183d640"
      },
      "source": [
        "model.summary()"
      ],
      "execution_count": null,
      "outputs": [
        {
          "output_type": "stream",
          "text": [
            "Model: \"sequential\"\n",
            "_________________________________________________________________\n",
            "Layer (type)                 Output Shape              Param #   \n",
            "=================================================================\n",
            "flatten (Flatten)            (32, 784)                 0         \n",
            "_________________________________________________________________\n",
            "dense (Dense)                (32, 128)                 100480    \n",
            "_________________________________________________________________\n",
            "dense_1 (Dense)              (32, 128)                 16512     \n",
            "_________________________________________________________________\n",
            "dense_2 (Dense)              (32, 10)                  1290      \n",
            "=================================================================\n",
            "Total params: 118,282\n",
            "Trainable params: 118,282\n",
            "Non-trainable params: 0\n",
            "_________________________________________________________________\n"
          ],
          "name": "stdout"
        }
      ]
    },
    {
      "cell_type": "code",
      "metadata": {
        "colab": {
          "base_uri": "https://localhost:8080/"
        },
        "id": "s5koh33yNIJR",
        "outputId": "1bdb3d1a-91ff-4d45-f395-0fd18f6f5a30"
      },
      "source": [
        "model.evaluate(x=x_test, y=y_test)"
      ],
      "execution_count": null,
      "outputs": [
        {
          "output_type": "stream",
          "text": [
            "313/313 [==============================] - 1s 1ms/step - loss: 0.0843 - accuracy: 0.9751 - sparse_categorical_accuracy: 0.9751\n"
          ],
          "name": "stdout"
        },
        {
          "output_type": "execute_result",
          "data": {
            "text/plain": [
              "[0.08433298021554947, 0.9750999808311462, 0.9750999808311462]"
            ]
          },
          "metadata": {
            "tags": []
          },
          "execution_count": 54
        }
      ]
    },
    {
      "cell_type": "code",
      "metadata": {
        "id": "6A3VGWvuNILq"
      },
      "source": [
        "op = model.predict([x_test[1:2]])"
      ],
      "execution_count": null,
      "outputs": []
    },
    {
      "cell_type": "code",
      "metadata": {
        "colab": {
          "base_uri": "https://localhost:8080/"
        },
        "id": "bV8deOopQc01",
        "outputId": "30840c92-efdc-460a-8ae0-acaffb84ba27"
      },
      "source": [
        "np.argmax(op)"
      ],
      "execution_count": null,
      "outputs": [
        {
          "output_type": "execute_result",
          "data": {
            "text/plain": [
              "2"
            ]
          },
          "metadata": {
            "tags": []
          },
          "execution_count": 63
        }
      ]
    },
    {
      "cell_type": "code",
      "metadata": {
        "colab": {
          "base_uri": "https://localhost:8080/"
        },
        "id": "H4xz9mjdSCZY",
        "outputId": "9d6ff05d-9acc-4fd3-c762-48c480a17b22"
      },
      "source": [
        "y_test[1]"
      ],
      "execution_count": null,
      "outputs": [
        {
          "output_type": "execute_result",
          "data": {
            "text/plain": [
              "2"
            ]
          },
          "metadata": {
            "tags": []
          },
          "execution_count": 64
        }
      ]
    },
    {
      "cell_type": "code",
      "metadata": {
        "id": "F2FwuZgjSEKO"
      },
      "source": [
        ""
      ],
      "execution_count": null,
      "outputs": []
    }
  ]
}